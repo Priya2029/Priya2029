{
  "nbformat": 4,
  "nbformat_minor": 0,
  "metadata": {
    "colab": {
      "provenance": [],
      "authorship_tag": "ABX9TyPU7x0hV0l0EPRKmhSekYmz",
      "include_colab_link": true
    },
    "kernelspec": {
      "name": "python3",
      "display_name": "Python 3"
    },
    "language_info": {
      "name": "python"
    }
  },
  "cells": [
    {
      "cell_type": "markdown",
      "metadata": {
        "id": "view-in-github",
        "colab_type": "text"
      },
      "source": [
        "<a href=\"https://colab.research.google.com/github/Priya2029/Priya2029/blob/main/SQL.ipynb\" target=\"_parent\"><img src=\"https://colab.research.google.com/assets/colab-badge.svg\" alt=\"Open In Colab\"/></a>"
      ]
    },
    {
      "cell_type": "code",
      "execution_count": 1,
      "metadata": {
        "colab": {
          "base_uri": "https://localhost:8080/"
        },
        "id": "RJSlD_H98E-b",
        "outputId": "d7eb59ce-3bc6-4fe0-f055-c59f9dc0fc58"
      },
      "outputs": [
        {
          "output_type": "stream",
          "name": "stdout",
          "text": [
            "\u001b[?25l   \u001b[90m━━━━━━━━━━━━━━━━━━━━━━━━━━━━━━━━━━━━━━━━\u001b[0m \u001b[32m0.0/95.1 kB\u001b[0m \u001b[31m?\u001b[0m eta \u001b[36m-:--:--\u001b[0m\r\u001b[2K   \u001b[90m━━━━━━━━━━━━━━━━━━━━━━━━━━━━━━━━━━━━━━━━\u001b[0m \u001b[32m95.1/95.1 kB\u001b[0m \u001b[31m3.3 MB/s\u001b[0m eta \u001b[36m0:00:00\u001b[0m\n",
            "\u001b[?25h\u001b[?25l   \u001b[90m━━━━━━━━━━━━━━━━━━━━━━━━━━━━━━━━━━━━━━━━\u001b[0m \u001b[32m0.0/49.7 kB\u001b[0m \u001b[31m?\u001b[0m eta \u001b[36m-:--:--\u001b[0m\r\u001b[2K   \u001b[90m━━━━━━━━━━━━━━━━━━━━━━━━━━━━━━━━━━━━━━━━\u001b[0m \u001b[32m49.7/49.7 kB\u001b[0m \u001b[31m3.0 MB/s\u001b[0m eta \u001b[36m0:00:00\u001b[0m\n",
            "\u001b[?25h\u001b[?25l   \u001b[90m━━━━━━━━━━━━━━━━━━━━━━━━━━━━━━━━━━━━━━━━\u001b[0m \u001b[32m0.0/192.8 kB\u001b[0m \u001b[31m?\u001b[0m eta \u001b[36m-:--:--\u001b[0m\r\u001b[2K   \u001b[90m━━━━━━━━━━━━━━━━━━━━━━━━━━━━━━━━━━━━━━━━\u001b[0m \u001b[32m192.8/192.8 kB\u001b[0m \u001b[31m8.1 MB/s\u001b[0m eta \u001b[36m0:00:00\u001b[0m\n",
            "\u001b[?25h\u001b[?25l   \u001b[90m━━━━━━━━━━━━━━━━━━━━━━━━━━━━━━━━━━━━━━━━\u001b[0m \u001b[32m0.0/117.9 kB\u001b[0m \u001b[31m?\u001b[0m eta \u001b[36m-:--:--\u001b[0m\r\u001b[2K   \u001b[90m━━━━━━━━━━━━━━━━━━━━━━━━━━━━━━━━━━━━━━━━\u001b[0m \u001b[32m117.9/117.9 kB\u001b[0m \u001b[31m7.6 MB/s\u001b[0m eta \u001b[36m0:00:00\u001b[0m\n",
            "\u001b[?25h"
          ]
        }
      ],
      "source": [
        "%pip install jupysql --upgrade duckdb-engine --quiet"
      ]
    },
    {
      "cell_type": "code",
      "source": [
        "from google.colab import drive\n",
        "drive.mount('/content/drive')\n"
      ],
      "metadata": {
        "colab": {
          "base_uri": "https://localhost:8080/"
        },
        "id": "mLyTLMkM8yym",
        "outputId": "70218ee5-8976-46c3-e557-e5bac8323d85"
      },
      "execution_count": 5,
      "outputs": [
        {
          "output_type": "stream",
          "name": "stdout",
          "text": [
            "Drive already mounted at /content/drive; to attempt to forcibly remount, call drive.mount(\"/content/drive\", force_remount=True).\n"
          ]
        }
      ]
    },
    {
      "cell_type": "code",
      "source": [
        "# Loading in SQL extension\n",
        "%reload_ext sql\n",
        "# Initiating a DuckDB database named 'bank.duck.db' to run our SQL queries on\n",
        "%sql duckdb:///bank.duck.db"
      ],
      "metadata": {
        "colab": {
          "base_uri": "https://localhost:8080/",
          "height": 34
        },
        "id": "7uz7D9qe8NaX",
        "outputId": "b0a2ba87-be9f-4f2c-df43-bb3f83764159"
      },
      "execution_count": 4,
      "outputs": [
        {
          "output_type": "display_data",
          "data": {
            "text/plain": [
              "Connecting to 'duckdb:///bank.duck.db'"
            ],
            "text/html": [
              "<span style=\"None\">Connecting to &#x27;duckdb:///bank.duck.db&#x27;</span>"
            ]
          },
          "metadata": {}
        }
      ]
    },
    {
      "cell_type": "code",
      "source": [
        "%%sql\n",
        "CREATE OR REPLACE TABLE zomato AS\n",
        "SELECT *\n",
        "FROM read_csv_auto('/content/Zomato_Dataset.csv', header=True, sep=',');\n"
      ],
      "metadata": {
        "colab": {
          "base_uri": "https://localhost:8080/",
          "height": 58
        },
        "id": "MA7gMvwK8g57",
        "outputId": "bdb7c0e0-28d2-432b-e6eb-8ad8b32ba44a"
      },
      "execution_count": 6,
      "outputs": [
        {
          "output_type": "display_data",
          "data": {
            "text/plain": [
              "Running query in 'duckdb:///bank.duck.db'"
            ],
            "text/html": [
              "<span style=\"None\">Running query in &#x27;duckdb:///bank.duck.db&#x27;</span>"
            ]
          },
          "metadata": {}
        },
        {
          "output_type": "execute_result",
          "data": {
            "text/plain": [
              "+-------+\n",
              "| Count |\n",
              "+-------+\n",
              "+-------+"
            ],
            "text/html": [
              "<table>\n",
              "    <thead>\n",
              "        <tr>\n",
              "            <th>Count</th>\n",
              "        </tr>\n",
              "    </thead>\n",
              "    <tbody>\n",
              "    </tbody>\n",
              "</table>"
            ]
          },
          "metadata": {},
          "execution_count": 6
        }
      ]
    },
    {
      "cell_type": "code",
      "source": [
        "%%sql\n",
        "SELECT *\n",
        "FROM zomato\n",
        "LIMIT 1;\n"
      ],
      "metadata": {
        "colab": {
          "base_uri": "https://localhost:8080/",
          "height": 238
        },
        "id": "jOILBXuM9UbA",
        "outputId": "a9f7b807-ccf9-4702-ea59-6764c5756d0d"
      },
      "execution_count": 7,
      "outputs": [
        {
          "output_type": "display_data",
          "data": {
            "text/plain": [
              "Running query in 'duckdb:///bank.duck.db'"
            ],
            "text/html": [
              "<span style=\"None\">Running query in &#x27;duckdb:///bank.duck.db&#x27;</span>"
            ]
          },
          "metadata": {}
        },
        {
          "output_type": "execute_result",
          "data": {
            "text/plain": [
              "+--------------+------------------+-------------+-------------+-------------------------------------------------------------------------+-------------------------------------------+--------------------------------------------------------+----------------------------+------------------+-------------------+---------------------+-------------------+----------------------+-------------+-------+----------------------+--------+\n",
              "| RestaurantID |  RestaurantName  | CountryCode |     City    |                                 Address                                 |                  Locality                 |                    LocalityVerbose                     |          Cuisines          |     Currency     | Has_Table_booking | Has_Online_delivery | Is_delivering_now | Switch_to_order_menu | Price_range | Votes | Average_Cost_for_two | Rating |\n",
              "+--------------+------------------+-------------+-------------+-------------------------------------------------------------------------+-------------------------------------------+--------------------------------------------------------+----------------------------+------------------+-------------------+---------------------+-------------------+----------------------+-------------+-------+----------------------+--------+\n",
              "|   6317637    | Le Petit Souffle |     162     | Makati City | Third Floor| Century City Mall| Kalayaan Avenue| Poblacion| Makati City | Century City Mall| Poblacion| Makati City | Century City Mall| Poblacion| Makati City| Makati City | French| Japanese| Desserts | Botswana Pula(P) |        True       |        False        |       False       |        False         |      3      |  314  |         1100         |  4.8   |\n",
              "+--------------+------------------+-------------+-------------+-------------------------------------------------------------------------+-------------------------------------------+--------------------------------------------------------+----------------------------+------------------+-------------------+---------------------+-------------------+----------------------+-------------+-------+----------------------+--------+"
            ],
            "text/html": [
              "<table>\n",
              "    <thead>\n",
              "        <tr>\n",
              "            <th>RestaurantID</th>\n",
              "            <th>RestaurantName</th>\n",
              "            <th>CountryCode</th>\n",
              "            <th>City</th>\n",
              "            <th>Address</th>\n",
              "            <th>Locality</th>\n",
              "            <th>LocalityVerbose</th>\n",
              "            <th>Cuisines</th>\n",
              "            <th>Currency</th>\n",
              "            <th>Has_Table_booking</th>\n",
              "            <th>Has_Online_delivery</th>\n",
              "            <th>Is_delivering_now</th>\n",
              "            <th>Switch_to_order_menu</th>\n",
              "            <th>Price_range</th>\n",
              "            <th>Votes</th>\n",
              "            <th>Average_Cost_for_two</th>\n",
              "            <th>Rating</th>\n",
              "        </tr>\n",
              "    </thead>\n",
              "    <tbody>\n",
              "        <tr>\n",
              "            <td>6317637</td>\n",
              "            <td>Le Petit Souffle</td>\n",
              "            <td>162</td>\n",
              "            <td>Makati City</td>\n",
              "            <td>Third Floor| Century City Mall| Kalayaan Avenue| Poblacion| Makati City</td>\n",
              "            <td>Century City Mall| Poblacion| Makati City</td>\n",
              "            <td>Century City Mall| Poblacion| Makati City| Makati City</td>\n",
              "            <td>French| Japanese| Desserts</td>\n",
              "            <td>Botswana Pula(P)</td>\n",
              "            <td>True</td>\n",
              "            <td>False</td>\n",
              "            <td>False</td>\n",
              "            <td>False</td>\n",
              "            <td>3</td>\n",
              "            <td>314</td>\n",
              "            <td>1100</td>\n",
              "            <td>4.8</td>\n",
              "        </tr>\n",
              "    </tbody>\n",
              "</table>"
            ]
          },
          "metadata": {},
          "execution_count": 7
        }
      ]
    },
    {
      "cell_type": "markdown",
      "source": [
        "Check total number of restaurants"
      ],
      "metadata": {
        "id": "0d7KnvVr90aO"
      }
    },
    {
      "cell_type": "code",
      "source": [
        "%%sql\n",
        "\n",
        "SELECT COUNT(DISTINCT RestaurantName)  FROM zomato;"
      ],
      "metadata": {
        "colab": {
          "base_uri": "https://localhost:8080/",
          "height": 79
        },
        "id": "fGcHAnga9hPE",
        "outputId": "5bab650a-5421-4bd0-8c52-40affcd99d92"
      },
      "execution_count": 12,
      "outputs": [
        {
          "output_type": "display_data",
          "data": {
            "text/plain": [
              "Running query in 'duckdb:///bank.duck.db'"
            ],
            "text/html": [
              "<span style=\"None\">Running query in &#x27;duckdb:///bank.duck.db&#x27;</span>"
            ]
          },
          "metadata": {}
        },
        {
          "output_type": "execute_result",
          "data": {
            "text/plain": [
              "+--------------------------------+\n",
              "| count(DISTINCT RestaurantName) |\n",
              "+--------------------------------+\n",
              "|              7446              |\n",
              "+--------------------------------+"
            ],
            "text/html": [
              "<table>\n",
              "    <thead>\n",
              "        <tr>\n",
              "            <th>count(DISTINCT RestaurantName)</th>\n",
              "        </tr>\n",
              "    </thead>\n",
              "    <tbody>\n",
              "        <tr>\n",
              "            <td>7446</td>\n",
              "        </tr>\n",
              "    </tbody>\n",
              "</table>"
            ]
          },
          "metadata": {},
          "execution_count": 12
        }
      ]
    },
    {
      "cell_type": "markdown",
      "source": [
        "Count of restaurants per city"
      ],
      "metadata": {
        "id": "SbzYE50YFGQ_"
      }
    },
    {
      "cell_type": "code",
      "source": [
        "%%sql\n",
        "SELECT City, COUNT(DISTINCT RestaurantName) AS num\n",
        "FROM bank.zomato\n",
        "GROUP BY City\n",
        "ORDER BY num DESC\n",
        "LIMIT 10;\n"
      ],
      "metadata": {
        "colab": {
          "base_uri": "https://localhost:8080/",
          "height": 289
        },
        "id": "cS3b69chFNnf",
        "outputId": "c6e457c3-5a25-4512-c455-15309248d211"
      },
      "execution_count": 20,
      "outputs": [
        {
          "output_type": "display_data",
          "data": {
            "text/plain": [
              "Running query in 'duckdb:///bank.duck.db'"
            ],
            "text/html": [
              "<span style=\"None\">Running query in &#x27;duckdb:///bank.duck.db&#x27;</span>"
            ]
          },
          "metadata": {}
        },
        {
          "output_type": "execute_result",
          "data": {
            "text/plain": [
              "+--------------+------+\n",
              "|     City     | num  |\n",
              "+--------------+------+\n",
              "|  New Delhi   | 4295 |\n",
              "|   Gurgaon    | 943  |\n",
              "|    Noida     | 902  |\n",
              "|  Faridabad   | 235  |\n",
              "|  Ghaziabad   |  25  |\n",
              "|  Ahmedabad   |  21  |\n",
              "|   Lucknow    |  21  |\n",
              "| Bhubaneshwar |  21  |\n",
              "|   Amritsar   |  21  |\n",
              "|   Guwahati   |  21  |\n",
              "+--------------+------+\n",
              "Truncated to displaylimit of 10."
            ],
            "text/html": [
              "<table>\n",
              "    <thead>\n",
              "        <tr>\n",
              "            <th>City</th>\n",
              "            <th>num</th>\n",
              "        </tr>\n",
              "    </thead>\n",
              "    <tbody>\n",
              "        <tr>\n",
              "            <td>New Delhi</td>\n",
              "            <td>4295</td>\n",
              "        </tr>\n",
              "        <tr>\n",
              "            <td>Gurgaon</td>\n",
              "            <td>943</td>\n",
              "        </tr>\n",
              "        <tr>\n",
              "            <td>Noida</td>\n",
              "            <td>902</td>\n",
              "        </tr>\n",
              "        <tr>\n",
              "            <td>Faridabad</td>\n",
              "            <td>235</td>\n",
              "        </tr>\n",
              "        <tr>\n",
              "            <td>Ghaziabad</td>\n",
              "            <td>25</td>\n",
              "        </tr>\n",
              "        <tr>\n",
              "            <td>Ahmedabad</td>\n",
              "            <td>21</td>\n",
              "        </tr>\n",
              "        <tr>\n",
              "            <td>Lucknow</td>\n",
              "            <td>21</td>\n",
              "        </tr>\n",
              "        <tr>\n",
              "            <td>Bhubaneshwar</td>\n",
              "            <td>21</td>\n",
              "        </tr>\n",
              "        <tr>\n",
              "            <td>Amritsar</td>\n",
              "            <td>21</td>\n",
              "        </tr>\n",
              "        <tr>\n",
              "            <td>Guwahati</td>\n",
              "            <td>21</td>\n",
              "        </tr>\n",
              "    </tbody>\n",
              "</table>\n",
              "<span style=\"font-style:italic;text-align:center;\">Truncated to <a href=\"https://jupysql.ploomber.io/en/latest/api/configuration.html#displaylimit\">displaylimit</a> of 10.</span>"
            ]
          },
          "metadata": {},
          "execution_count": 20
        }
      ]
    },
    {
      "cell_type": "markdown",
      "source": [
        "Retrieve all restaurant names and their cities.\n",
        "\n"
      ],
      "metadata": {
        "id": "nahIJECQLc9g"
      }
    },
    {
      "cell_type": "code",
      "source": [
        "%%sql\n",
        "SELECT DISTINCT RestaurantName, City\n",
        "FROM bank.zomato;"
      ],
      "metadata": {
        "colab": {
          "base_uri": "https://localhost:8080/",
          "height": 289
        },
        "id": "y2Rb8sx6LeIo",
        "outputId": "94bb1379-fec8-4f38-83b3-50188dedd607"
      },
      "execution_count": 26,
      "outputs": [
        {
          "output_type": "display_data",
          "data": {
            "text/plain": [
              "Running query in 'duckdb:///bank.duck.db'"
            ],
            "text/html": [
              "<span style=\"None\">Running query in &#x27;duckdb:///bank.duck.db&#x27;</span>"
            ]
          },
          "metadata": {}
        },
        {
          "output_type": "execute_result",
          "data": {
            "text/plain": [
              "+---------------------------------+------------------+\n",
              "|          RestaurantName         |       City       |\n",
              "+---------------------------------+------------------+\n",
              "|      Heat - Edsa Shangri-La     | Mandaluyong City |\n",
              "|               Ooma              | Mandaluyong City |\n",
              "|           Sambo Kojin           | Mandaluyong City |\n",
              "|           Din Tai Fung          | Mandaluyong City |\n",
              "|            Buffet 101           |    Pasay City    |\n",
              "|         Silantro Fil-Mex        |    Pasig City    |\n",
              "| Mad Mark's Creamery & Good Eats |    Pasig City    |\n",
              "|            Guevarra's           |  San Juan City   |\n",
              "|     Sodam Korean Restaurant     |  San Juan City   |\n",
              "|     Nonna's Pasta & Pizzeria    |    Santa Rosa    |\n",
              "+---------------------------------+------------------+\n",
              "Truncated to displaylimit of 10."
            ],
            "text/html": [
              "<table>\n",
              "    <thead>\n",
              "        <tr>\n",
              "            <th>RestaurantName</th>\n",
              "            <th>City</th>\n",
              "        </tr>\n",
              "    </thead>\n",
              "    <tbody>\n",
              "        <tr>\n",
              "            <td>Heat - Edsa Shangri-La</td>\n",
              "            <td>Mandaluyong City</td>\n",
              "        </tr>\n",
              "        <tr>\n",
              "            <td>Ooma</td>\n",
              "            <td>Mandaluyong City</td>\n",
              "        </tr>\n",
              "        <tr>\n",
              "            <td>Sambo Kojin</td>\n",
              "            <td>Mandaluyong City</td>\n",
              "        </tr>\n",
              "        <tr>\n",
              "            <td>Din Tai Fung</td>\n",
              "            <td>Mandaluyong City</td>\n",
              "        </tr>\n",
              "        <tr>\n",
              "            <td>Buffet 101</td>\n",
              "            <td>Pasay City</td>\n",
              "        </tr>\n",
              "        <tr>\n",
              "            <td>Silantro Fil-Mex</td>\n",
              "            <td>Pasig City</td>\n",
              "        </tr>\n",
              "        <tr>\n",
              "            <td>Mad Mark's Creamery & Good Eats</td>\n",
              "            <td>Pasig City</td>\n",
              "        </tr>\n",
              "        <tr>\n",
              "            <td>Guevarra's</td>\n",
              "            <td>San Juan City</td>\n",
              "        </tr>\n",
              "        <tr>\n",
              "            <td>Sodam Korean Restaurant</td>\n",
              "            <td>San Juan City</td>\n",
              "        </tr>\n",
              "        <tr>\n",
              "            <td>Nonna's Pasta & Pizzeria</td>\n",
              "            <td>Santa Rosa</td>\n",
              "        </tr>\n",
              "    </tbody>\n",
              "</table>\n",
              "<span style=\"font-style:italic;text-align:center;\">Truncated to <a href=\"https://jupysql.ploomber.io/en/latest/api/configuration.html#displaylimit\">displaylimit</a> of 10.</span>"
            ]
          },
          "metadata": {},
          "execution_count": 26
        }
      ]
    },
    {
      "cell_type": "markdown",
      "source": [
        "List all unique cities present in the dataset."
      ],
      "metadata": {
        "id": "yg5mdxJDLtXb"
      }
    },
    {
      "cell_type": "code",
      "source": [
        "%%sql\n",
        "SELECT DISTINCT City\n",
        "FROM bank.zomato;"
      ],
      "metadata": {
        "colab": {
          "base_uri": "https://localhost:8080/",
          "height": 289
        },
        "id": "Ta081SaZLwap",
        "outputId": "f3c545a1-fc49-400b-f7e7-ac54cb5fe15a"
      },
      "execution_count": 27,
      "outputs": [
        {
          "output_type": "display_data",
          "data": {
            "text/plain": [
              "Running query in 'duckdb:///bank.duck.db'"
            ],
            "text/html": [
              "<span style=\"None\">Running query in &#x27;duckdb:///bank.duck.db&#x27;</span>"
            ]
          },
          "metadata": {}
        },
        {
          "output_type": "execute_result",
          "data": {
            "text/plain": [
              "+------------------------+\n",
              "|          City          |\n",
              "+------------------------+\n",
              "|    Mandaluyong City    |\n",
              "|       Pasay City       |\n",
              "|      Quezon City       |\n",
              "|     Rio de Janeiro     |\n",
              "|         Albany         |\n",
              "|        Armidale        |\n",
              "|        Balingup        |\n",
              "|       Beechworth       |\n",
              "| Cedar Rapids/Iowa City |\n",
              "|      Chatham-Kent      |\n",
              "+------------------------+\n",
              "Truncated to displaylimit of 10."
            ],
            "text/html": [
              "<table>\n",
              "    <thead>\n",
              "        <tr>\n",
              "            <th>City</th>\n",
              "        </tr>\n",
              "    </thead>\n",
              "    <tbody>\n",
              "        <tr>\n",
              "            <td>Mandaluyong City</td>\n",
              "        </tr>\n",
              "        <tr>\n",
              "            <td>Pasay City</td>\n",
              "        </tr>\n",
              "        <tr>\n",
              "            <td>Quezon City</td>\n",
              "        </tr>\n",
              "        <tr>\n",
              "            <td>Rio de Janeiro</td>\n",
              "        </tr>\n",
              "        <tr>\n",
              "            <td>Albany</td>\n",
              "        </tr>\n",
              "        <tr>\n",
              "            <td>Armidale</td>\n",
              "        </tr>\n",
              "        <tr>\n",
              "            <td>Balingup</td>\n",
              "        </tr>\n",
              "        <tr>\n",
              "            <td>Beechworth</td>\n",
              "        </tr>\n",
              "        <tr>\n",
              "            <td>Cedar Rapids/Iowa City</td>\n",
              "        </tr>\n",
              "        <tr>\n",
              "            <td>Chatham-Kent</td>\n",
              "        </tr>\n",
              "    </tbody>\n",
              "</table>\n",
              "<span style=\"font-style:italic;text-align:center;\">Truncated to <a href=\"https://jupysql.ploomber.io/en/latest/api/configuration.html#displaylimit\">displaylimit</a> of 10.</span>"
            ]
          },
          "metadata": {},
          "execution_count": 27
        }
      ]
    },
    {
      "cell_type": "markdown",
      "source": [
        "Find all restaurants located in 'New Delhi'."
      ],
      "metadata": {
        "id": "_gd6R4XxL1um"
      }
    },
    {
      "cell_type": "code",
      "source": [
        "%%sql\n",
        "SELECT DISTINCT RestaurantName FROM bank.zomato WHERE City = 'New Delhi';"
      ],
      "metadata": {
        "colab": {
          "base_uri": "https://localhost:8080/",
          "height": 289
        },
        "id": "3lOISxmtL6FZ",
        "outputId": "ef19809f-f9b4-4bf5-b7dc-d250c3bb2407"
      },
      "execution_count": 28,
      "outputs": [
        {
          "output_type": "display_data",
          "data": {
            "text/plain": [
              "Running query in 'duckdb:///bank.duck.db'"
            ],
            "text/html": [
              "<span style=\"None\">Running query in &#x27;duckdb:///bank.duck.db&#x27;</span>"
            ]
          },
          "metadata": {}
        },
        {
          "output_type": "execute_result",
          "data": {
            "text/plain": [
              "+--------------------------+\n",
              "|      RestaurantName      |\n",
              "+--------------------------+\n",
              "|        Food Cloud        |\n",
              "|        Burger.in         |\n",
              "|     Days of the Raj      |\n",
              "|        Govardhan         |\n",
              "|        Say Cheese        |\n",
              "|          Southy          |\n",
              "|          Waves           |\n",
              "|         BarShala         |\n",
              "|     Clever Fox Cafe      |\n",
              "| 4 on 44 Restaurant & Bar |\n",
              "+--------------------------+\n",
              "Truncated to displaylimit of 10."
            ],
            "text/html": [
              "<table>\n",
              "    <thead>\n",
              "        <tr>\n",
              "            <th>RestaurantName</th>\n",
              "        </tr>\n",
              "    </thead>\n",
              "    <tbody>\n",
              "        <tr>\n",
              "            <td>Food Cloud</td>\n",
              "        </tr>\n",
              "        <tr>\n",
              "            <td>Burger.in</td>\n",
              "        </tr>\n",
              "        <tr>\n",
              "            <td>Days of the Raj</td>\n",
              "        </tr>\n",
              "        <tr>\n",
              "            <td>Govardhan</td>\n",
              "        </tr>\n",
              "        <tr>\n",
              "            <td>Say Cheese</td>\n",
              "        </tr>\n",
              "        <tr>\n",
              "            <td>Southy</td>\n",
              "        </tr>\n",
              "        <tr>\n",
              "            <td>Waves</td>\n",
              "        </tr>\n",
              "        <tr>\n",
              "            <td>BarShala</td>\n",
              "        </tr>\n",
              "        <tr>\n",
              "            <td>Clever Fox Cafe</td>\n",
              "        </tr>\n",
              "        <tr>\n",
              "            <td>4 on 44 Restaurant & Bar</td>\n",
              "        </tr>\n",
              "    </tbody>\n",
              "</table>\n",
              "<span style=\"font-style:italic;text-align:center;\">Truncated to <a href=\"https://jupysql.ploomber.io/en/latest/api/configuration.html#displaylimit\">displaylimit</a> of 10.</span>"
            ]
          },
          "metadata": {},
          "execution_count": 28
        }
      ]
    },
    {
      "cell_type": "markdown",
      "source": [
        "Get the names of restaurants that have a rating of 4.8 or higher"
      ],
      "metadata": {
        "id": "iBFazANiMLve"
      }
    },
    {
      "cell_type": "code",
      "source": [
        "\n",
        "%%sql\n",
        "SELECT DISTINCT RestaurantName FROM bank.zomato WHERE Rating >= 4.8;"
      ],
      "metadata": {
        "colab": {
          "base_uri": "https://localhost:8080/",
          "height": 289
        },
        "id": "sR6OtOAYMRF-",
        "outputId": "b21588f9-a8f4-4f0a-9782-bed07869f490"
      },
      "execution_count": 30,
      "outputs": [
        {
          "output_type": "display_data",
          "data": {
            "text/plain": [
              "Running query in 'duckdb:///bank.duck.db'"
            ],
            "text/html": [
              "<span style=\"None\">Running query in &#x27;duckdb:///bank.duck.db&#x27;</span>"
            ]
          },
          "metadata": {}
        },
        {
          "output_type": "execute_result",
          "data": {
            "text/plain": [
              "+-------------------------------------+\n",
              "|            RestaurantName           |\n",
              "+-------------------------------------+\n",
              "|                 Ooma                |\n",
              "|          Braseiro da G?vea          |\n",
              "|         Skye - Hotel Unique         |\n",
              "|          Rae's Coastal Cafe         |\n",
              "|       Shorts Burger and Shine       |\n",
              "|             Oakwood Cafe            |\n",
              "|               The Cafe              |\n",
              "|    Atlanta Highway Seafood Market   |\n",
              "|    Hollerbach's Willow Tree Caf?    |\n",
              "| Pom Pom's Teahouse and Sandwicheria |\n",
              "+-------------------------------------+\n",
              "Truncated to displaylimit of 10."
            ],
            "text/html": [
              "<table>\n",
              "    <thead>\n",
              "        <tr>\n",
              "            <th>RestaurantName</th>\n",
              "        </tr>\n",
              "    </thead>\n",
              "    <tbody>\n",
              "        <tr>\n",
              "            <td>Ooma</td>\n",
              "        </tr>\n",
              "        <tr>\n",
              "            <td>Braseiro da G?vea</td>\n",
              "        </tr>\n",
              "        <tr>\n",
              "            <td>Skye - Hotel Unique</td>\n",
              "        </tr>\n",
              "        <tr>\n",
              "            <td>Rae's Coastal Cafe</td>\n",
              "        </tr>\n",
              "        <tr>\n",
              "            <td>Shorts Burger and Shine</td>\n",
              "        </tr>\n",
              "        <tr>\n",
              "            <td>Oakwood Cafe</td>\n",
              "        </tr>\n",
              "        <tr>\n",
              "            <td>The Cafe</td>\n",
              "        </tr>\n",
              "        <tr>\n",
              "            <td>Atlanta Highway Seafood Market</td>\n",
              "        </tr>\n",
              "        <tr>\n",
              "            <td>Hollerbach's Willow Tree Caf?</td>\n",
              "        </tr>\n",
              "        <tr>\n",
              "            <td>Pom Pom's Teahouse and Sandwicheria</td>\n",
              "        </tr>\n",
              "    </tbody>\n",
              "</table>\n",
              "<span style=\"font-style:italic;text-align:center;\">Truncated to <a href=\"https://jupysql.ploomber.io/en/latest/api/configuration.html#displaylimit\">displaylimit</a> of 10.</span>"
            ]
          },
          "metadata": {},
          "execution_count": 30
        }
      ]
    },
    {
      "cell_type": "markdown",
      "source": [
        "List the top 10 restaurants with the most votes, showing their names and vote counts."
      ],
      "metadata": {
        "id": "NLawoOQGMaRu"
      }
    },
    {
      "cell_type": "code",
      "source": [
        "%%sql\n",
        "SELECT DISTINCT RestaurantName, Votes\n",
        "FROM bank.zomato\n",
        "ORDER BY Votes DESC\n",
        "LIMIT 10;\n"
      ],
      "metadata": {
        "colab": {
          "base_uri": "https://localhost:8080/",
          "height": 289
        },
        "id": "_YVx04O8Mevt",
        "outputId": "e39492b7-650c-4fdc-8627-30f53e47580a"
      },
      "execution_count": 31,
      "outputs": [
        {
          "output_type": "display_data",
          "data": {
            "text/plain": [
              "Running query in 'duckdb:///bank.duck.db'"
            ],
            "text/html": [
              "<span style=\"None\">Running query in &#x27;duckdb:///bank.duck.db&#x27;</span>"
            ]
          },
          "metadata": {}
        },
        {
          "output_type": "execute_result",
          "data": {
            "text/plain": [
              "+---------------------------+-------+\n",
              "|       RestaurantName      | Votes |\n",
              "+---------------------------+-------+\n",
              "|            Toit           | 10934 |\n",
              "|          Truffles         |  9667 |\n",
              "|      Hauz Khas Social     |  7931 |\n",
              "|         Peter Cat         |  7574 |\n",
              "| AB's - Absolute Barbecues |  6907 |\n",
              "|      Barbeque Nation      |  5966 |\n",
              "|        Big Brewsky        |  5705 |\n",
              "| AB's - Absolute Barbecues |  5434 |\n",
              "|      The Black Pearl      |  5385 |\n",
              "|           BarBQ           |  5288 |\n",
              "+---------------------------+-------+\n",
              "Truncated to displaylimit of 10."
            ],
            "text/html": [
              "<table>\n",
              "    <thead>\n",
              "        <tr>\n",
              "            <th>RestaurantName</th>\n",
              "            <th>Votes</th>\n",
              "        </tr>\n",
              "    </thead>\n",
              "    <tbody>\n",
              "        <tr>\n",
              "            <td>Toit</td>\n",
              "            <td>10934</td>\n",
              "        </tr>\n",
              "        <tr>\n",
              "            <td>Truffles</td>\n",
              "            <td>9667</td>\n",
              "        </tr>\n",
              "        <tr>\n",
              "            <td>Hauz Khas Social</td>\n",
              "            <td>7931</td>\n",
              "        </tr>\n",
              "        <tr>\n",
              "            <td>Peter Cat</td>\n",
              "            <td>7574</td>\n",
              "        </tr>\n",
              "        <tr>\n",
              "            <td>AB's - Absolute Barbecues</td>\n",
              "            <td>6907</td>\n",
              "        </tr>\n",
              "        <tr>\n",
              "            <td>Barbeque Nation</td>\n",
              "            <td>5966</td>\n",
              "        </tr>\n",
              "        <tr>\n",
              "            <td>Big Brewsky</td>\n",
              "            <td>5705</td>\n",
              "        </tr>\n",
              "        <tr>\n",
              "            <td>AB's - Absolute Barbecues</td>\n",
              "            <td>5434</td>\n",
              "        </tr>\n",
              "        <tr>\n",
              "            <td>The Black Pearl</td>\n",
              "            <td>5385</td>\n",
              "        </tr>\n",
              "        <tr>\n",
              "            <td>BarBQ</td>\n",
              "            <td>5288</td>\n",
              "        </tr>\n",
              "    </tbody>\n",
              "</table>\n",
              "<span style=\"font-style:italic;text-align:center;\">Truncated to <a href=\"https://jupysql.ploomber.io/en/latest/api/configuration.html#displaylimit\">displaylimit</a> of 10.</span>"
            ]
          },
          "metadata": {},
          "execution_count": 31
        }
      ]
    },
    {
      "cell_type": "markdown",
      "source": [
        "What is the average rating of restaurants in each city? Display the city and its average rating."
      ],
      "metadata": {
        "id": "pMfRoQvBMtEG"
      }
    },
    {
      "cell_type": "code",
      "source": [
        "\n",
        "%%sql\n",
        "SELECT City, AVG(Rating) AS AverageRating\n",
        "FROM bank.zomato\n",
        "GROUP BY City\n",
        "ORDER BY AverageRating DESC ;"
      ],
      "metadata": {
        "colab": {
          "base_uri": "https://localhost:8080/",
          "height": 289
        },
        "id": "LcSd947tMowF",
        "outputId": "3f8f724b-45a8-4750-888d-340ea59a0960"
      },
      "execution_count": 33,
      "outputs": [
        {
          "output_type": "display_data",
          "data": {
            "text/plain": [
              "Running query in 'duckdb:///bank.duck.db'"
            ],
            "text/html": [
              "<span style=\"None\">Running query in &#x27;duckdb:///bank.duck.db&#x27;</span>"
            ]
          },
          "metadata": {}
        },
        {
          "output_type": "execute_result",
          "data": {
            "text/plain": [
              "+------------------+-------------------+\n",
              "|       City       |   AverageRating   |\n",
              "+------------------+-------------------+\n",
              "|    Inner City    |        4.9        |\n",
              "|   Quezon City    |        4.8        |\n",
              "|   Makati City    |        4.65       |\n",
              "|    Pasig City    | 4.633333333333333 |\n",
              "| Mandaluyong City |       4.625       |\n",
              "|    Beechworth    |        4.6        |\n",
              "|      London      | 4.534999999999999 |\n",
              "|   Taguig City    |       4.525       |\n",
              "|  Tagaytay City   |        4.5        |\n",
              "|   Secunderabad   |        4.5        |\n",
              "+------------------+-------------------+\n",
              "Truncated to displaylimit of 10."
            ],
            "text/html": [
              "<table>\n",
              "    <thead>\n",
              "        <tr>\n",
              "            <th>City</th>\n",
              "            <th>AverageRating</th>\n",
              "        </tr>\n",
              "    </thead>\n",
              "    <tbody>\n",
              "        <tr>\n",
              "            <td>Inner City</td>\n",
              "            <td>4.9</td>\n",
              "        </tr>\n",
              "        <tr>\n",
              "            <td>Quezon City</td>\n",
              "            <td>4.8</td>\n",
              "        </tr>\n",
              "        <tr>\n",
              "            <td>Makati City</td>\n",
              "            <td>4.65</td>\n",
              "        </tr>\n",
              "        <tr>\n",
              "            <td>Pasig City</td>\n",
              "            <td>4.633333333333333</td>\n",
              "        </tr>\n",
              "        <tr>\n",
              "            <td>Mandaluyong City</td>\n",
              "            <td>4.625</td>\n",
              "        </tr>\n",
              "        <tr>\n",
              "            <td>Beechworth</td>\n",
              "            <td>4.6</td>\n",
              "        </tr>\n",
              "        <tr>\n",
              "            <td>London</td>\n",
              "            <td>4.534999999999999</td>\n",
              "        </tr>\n",
              "        <tr>\n",
              "            <td>Taguig City</td>\n",
              "            <td>4.525</td>\n",
              "        </tr>\n",
              "        <tr>\n",
              "            <td>Tagaytay City</td>\n",
              "            <td>4.5</td>\n",
              "        </tr>\n",
              "        <tr>\n",
              "            <td>Secunderabad</td>\n",
              "            <td>4.5</td>\n",
              "        </tr>\n",
              "    </tbody>\n",
              "</table>\n",
              "<span style=\"font-style:italic;text-align:center;\">Truncated to <a href=\"https://jupysql.ploomber.io/en/latest/api/configuration.html#displaylimit\">displaylimit</a> of 10.</span>"
            ]
          },
          "metadata": {},
          "execution_count": 33
        }
      ]
    },
    {
      "cell_type": "markdown",
      "source": [
        "Find the restaurants that have the word 'Pizza' in their name"
      ],
      "metadata": {
        "id": "5ApaHjhDNrM8"
      }
    },
    {
      "cell_type": "code",
      "source": [
        "%%sql\n",
        "SELECT DISTINCT RestaurantName\n",
        "FROM bank.zomato\n",
        "WHERE RestaurantName LIKE '%Pizza%';"
      ],
      "metadata": {
        "colab": {
          "base_uri": "https://localhost:8080/",
          "height": 289
        },
        "id": "13pIQJGfNsi2",
        "outputId": "2d541557-92eb-423c-ac33-8e70c3fed4a4"
      },
      "execution_count": 35,
      "outputs": [
        {
          "output_type": "display_data",
          "data": {
            "text/plain": [
              "Running query in 'duckdb:///bank.duck.db'"
            ],
            "text/html": [
              "<span style=\"None\">Running query in &#x27;duckdb:///bank.duck.db&#x27;</span>"
            ]
          },
          "metadata": {}
        },
        {
          "output_type": "execute_result",
          "data": {
            "text/plain": [
              "+--------------------------+\n",
              "|      RestaurantName      |\n",
              "+--------------------------+\n",
              "|       Fong's Pizza       |\n",
              "|     Bob Roe's Pizza      |\n",
              "|      Jerry's Pizza       |\n",
              "|      El Fredo Pizza      |\n",
              "|        Pizza Hut         |\n",
              "|      Da Pizza Zone       |\n",
              "|        PizzaVito         |\n",
              "| California Pizza Kitchen |\n",
              "|      Pizza Central       |\n",
              "|        Pizza King        |\n",
              "+--------------------------+\n",
              "Truncated to displaylimit of 10."
            ],
            "text/html": [
              "<table>\n",
              "    <thead>\n",
              "        <tr>\n",
              "            <th>RestaurantName</th>\n",
              "        </tr>\n",
              "    </thead>\n",
              "    <tbody>\n",
              "        <tr>\n",
              "            <td>Fong's Pizza</td>\n",
              "        </tr>\n",
              "        <tr>\n",
              "            <td>Bob Roe's Pizza</td>\n",
              "        </tr>\n",
              "        <tr>\n",
              "            <td>Jerry's Pizza</td>\n",
              "        </tr>\n",
              "        <tr>\n",
              "            <td>El Fredo Pizza</td>\n",
              "        </tr>\n",
              "        <tr>\n",
              "            <td>Pizza Hut</td>\n",
              "        </tr>\n",
              "        <tr>\n",
              "            <td>Da Pizza Zone</td>\n",
              "        </tr>\n",
              "        <tr>\n",
              "            <td>PizzaVito</td>\n",
              "        </tr>\n",
              "        <tr>\n",
              "            <td>California Pizza Kitchen</td>\n",
              "        </tr>\n",
              "        <tr>\n",
              "            <td>Pizza Central</td>\n",
              "        </tr>\n",
              "        <tr>\n",
              "            <td>Pizza King</td>\n",
              "        </tr>\n",
              "    </tbody>\n",
              "</table>\n",
              "<span style=\"font-style:italic;text-align:center;\">Truncated to <a href=\"https://jupysql.ploomber.io/en/latest/api/configuration.html#displaylimit\">displaylimit</a> of 10.</span>"
            ]
          },
          "metadata": {},
          "execution_count": 35
        }
      ]
    },
    {
      "cell_type": "markdown",
      "source": [
        "Get the names and ratings of restaurants that have more than 1000 votes, ordered by rating in descending order."
      ],
      "metadata": {
        "id": "MayKsmiONbku"
      }
    },
    {
      "cell_type": "code",
      "source": [
        "\n",
        "%%sql\n",
        "SELECT DISTINCT RestaurantName, Rating\n",
        "FROM bank.zomato\n",
        "WHERE Votes > 1000\n",
        "ORDER BY Rating DESC;"
      ],
      "metadata": {
        "colab": {
          "base_uri": "https://localhost:8080/",
          "height": 289
        },
        "id": "PHLm55gkN8k1",
        "outputId": "4d7858d7-1fcc-4aef-a0e9-aa1dda8acd39"
      },
      "execution_count": 42,
      "outputs": [
        {
          "output_type": "display_data",
          "data": {
            "text/plain": [
              "Running query in 'duckdb:///bank.duck.db'"
            ],
            "text/html": [
              "<span style=\"None\">Running query in &#x27;duckdb:///bank.duck.db&#x27;</span>"
            ]
          },
          "metadata": {}
        },
        {
          "output_type": "execute_result",
          "data": {
            "text/plain": [
              "+--------------------------------------------+--------+\n",
              "|               RestaurantName               | Rating |\n",
              "+--------------------------------------------+--------+\n",
              "|              Silantro Fil-Mex              |  4.9   |\n",
              "|    Pom Pom's Teahouse and Sandwicheria     |  4.9   |\n",
              "|       McGuire's Irish Pub & Brewery        |  4.9   |\n",
              "|             Mama's Fish House              |  4.9   |\n",
              "| Mr. Dunderbak's Biergarten and Marketplatz |  4.9   |\n",
              "|         AB's - Absolute Barbecues          |  4.9   |\n",
              "|         Grandson of Tunday Kababi          |  4.9   |\n",
              "|              Mirchi And Mime               |  4.9   |\n",
              "|             Naturals Ice Cream             |  4.9   |\n",
              "|              Talaga Sampireun              |  4.9   |\n",
              "+--------------------------------------------+--------+\n",
              "Truncated to displaylimit of 10."
            ],
            "text/html": [
              "<table>\n",
              "    <thead>\n",
              "        <tr>\n",
              "            <th>RestaurantName</th>\n",
              "            <th>Rating</th>\n",
              "        </tr>\n",
              "    </thead>\n",
              "    <tbody>\n",
              "        <tr>\n",
              "            <td>Silantro Fil-Mex</td>\n",
              "            <td>4.9</td>\n",
              "        </tr>\n",
              "        <tr>\n",
              "            <td>Pom Pom's Teahouse and Sandwicheria</td>\n",
              "            <td>4.9</td>\n",
              "        </tr>\n",
              "        <tr>\n",
              "            <td>McGuire's Irish Pub & Brewery</td>\n",
              "            <td>4.9</td>\n",
              "        </tr>\n",
              "        <tr>\n",
              "            <td>Mama's Fish House</td>\n",
              "            <td>4.9</td>\n",
              "        </tr>\n",
              "        <tr>\n",
              "            <td>Mr. Dunderbak's Biergarten and Marketplatz</td>\n",
              "            <td>4.9</td>\n",
              "        </tr>\n",
              "        <tr>\n",
              "            <td>AB's - Absolute Barbecues</td>\n",
              "            <td>4.9</td>\n",
              "        </tr>\n",
              "        <tr>\n",
              "            <td>Grandson of Tunday Kababi</td>\n",
              "            <td>4.9</td>\n",
              "        </tr>\n",
              "        <tr>\n",
              "            <td>Mirchi And Mime</td>\n",
              "            <td>4.9</td>\n",
              "        </tr>\n",
              "        <tr>\n",
              "            <td>Naturals Ice Cream</td>\n",
              "            <td>4.9</td>\n",
              "        </tr>\n",
              "        <tr>\n",
              "            <td>Talaga Sampireun</td>\n",
              "            <td>4.9</td>\n",
              "        </tr>\n",
              "    </tbody>\n",
              "</table>\n",
              "<span style=\"font-style:italic;text-align:center;\">Truncated to <a href=\"https://jupysql.ploomber.io/en/latest/api/configuration.html#displaylimit\">displaylimit</a> of 10.</span>"
            ]
          },
          "metadata": {},
          "execution_count": 42
        }
      ]
    },
    {
      "cell_type": "markdown",
      "source": [
        "What is the distribution of restaurants by price range? Show the count of restaurants for each price range."
      ],
      "metadata": {
        "id": "KNWvtTZ_Or84"
      }
    },
    {
      "cell_type": "code",
      "source": [
        "%%sql\n",
        "SELECT COUNT(DISTINCT RestaurantID) as count , Price_range\n",
        "FROM bank.zomato\n",
        "GROUP BY Price_range\n",
        "ORDER BY Price_range;"
      ],
      "metadata": {
        "colab": {
          "base_uri": "https://localhost:8080/",
          "height": 143
        },
        "id": "1ZPLt47DOsuu",
        "outputId": "144a5ba5-c381-46be-bae8-ced1b5eac4f4"
      },
      "execution_count": 44,
      "outputs": [
        {
          "output_type": "display_data",
          "data": {
            "text/plain": [
              "Running query in 'duckdb:///bank.duck.db'"
            ],
            "text/html": [
              "<span style=\"None\">Running query in &#x27;duckdb:///bank.duck.db&#x27;</span>"
            ]
          },
          "metadata": {}
        },
        {
          "output_type": "execute_result",
          "data": {
            "text/plain": [
              "+-------+-------------+\n",
              "| count | Price_range |\n",
              "+-------+-------------+\n",
              "|  4444 |      1      |\n",
              "|  3113 |      2      |\n",
              "|  1408 |      3      |\n",
              "|  586  |      4      |\n",
              "+-------+-------------+"
            ],
            "text/html": [
              "<table>\n",
              "    <thead>\n",
              "        <tr>\n",
              "            <th>count</th>\n",
              "            <th>Price_range</th>\n",
              "        </tr>\n",
              "    </thead>\n",
              "    <tbody>\n",
              "        <tr>\n",
              "            <td>4444</td>\n",
              "            <td>1</td>\n",
              "        </tr>\n",
              "        <tr>\n",
              "            <td>3113</td>\n",
              "            <td>2</td>\n",
              "        </tr>\n",
              "        <tr>\n",
              "            <td>1408</td>\n",
              "            <td>3</td>\n",
              "        </tr>\n",
              "        <tr>\n",
              "            <td>586</td>\n",
              "            <td>4</td>\n",
              "        </tr>\n",
              "    </tbody>\n",
              "</table>"
            ]
          },
          "metadata": {},
          "execution_count": 44
        }
      ]
    },
    {
      "cell_type": "markdown",
      "source": [
        "For each city, find the restaurant with the highest rating"
      ],
      "metadata": {
        "id": "jJb-4iMIPska"
      }
    },
    {
      "cell_type": "code",
      "source": [
        "%%sql\n",
        "SELECT City, MAX(Rating) AS HighestRating\n",
        "FROM bank.zomato\n",
        "GROUP BY City;"
      ],
      "metadata": {
        "colab": {
          "base_uri": "https://localhost:8080/",
          "height": 289
        },
        "id": "pwgUlLEKP6Qj",
        "outputId": "c3ebd590-5885-4b62-938f-9c9db32670a5"
      },
      "execution_count": 45,
      "outputs": [
        {
          "output_type": "display_data",
          "data": {
            "text/plain": [
              "Running query in 'duckdb:///bank.duck.db'"
            ],
            "text/html": [
              "<span style=\"None\">Running query in &#x27;duckdb:///bank.duck.db&#x27;</span>"
            ]
          },
          "metadata": {}
        },
        {
          "output_type": "execute_result",
          "data": {
            "text/plain": [
              "+---------------+---------------+\n",
              "|      City     | HighestRating |\n",
              "+---------------+---------------+\n",
              "|  Makati City  |      4.8      |\n",
              "|   Pasig City  |      4.9      |\n",
              "| San Juan City |      4.3      |\n",
              "|   Santa Rosa  |      4.0      |\n",
              "| Tagaytay City |      4.5      |\n",
              "|  Taguig City  |      4.7      |\n",
              "|    Bras?lia   |      4.9      |\n",
              "|   S?o Paulo   |      4.8      |\n",
              "|     Athens    |      4.6      |\n",
              "|    Augusta    |      4.9      |\n",
              "+---------------+---------------+\n",
              "Truncated to displaylimit of 10."
            ],
            "text/html": [
              "<table>\n",
              "    <thead>\n",
              "        <tr>\n",
              "            <th>City</th>\n",
              "            <th>HighestRating</th>\n",
              "        </tr>\n",
              "    </thead>\n",
              "    <tbody>\n",
              "        <tr>\n",
              "            <td>Makati City</td>\n",
              "            <td>4.8</td>\n",
              "        </tr>\n",
              "        <tr>\n",
              "            <td>Pasig City</td>\n",
              "            <td>4.9</td>\n",
              "        </tr>\n",
              "        <tr>\n",
              "            <td>San Juan City</td>\n",
              "            <td>4.3</td>\n",
              "        </tr>\n",
              "        <tr>\n",
              "            <td>Santa Rosa</td>\n",
              "            <td>4.0</td>\n",
              "        </tr>\n",
              "        <tr>\n",
              "            <td>Tagaytay City</td>\n",
              "            <td>4.5</td>\n",
              "        </tr>\n",
              "        <tr>\n",
              "            <td>Taguig City</td>\n",
              "            <td>4.7</td>\n",
              "        </tr>\n",
              "        <tr>\n",
              "            <td>Bras?lia</td>\n",
              "            <td>4.9</td>\n",
              "        </tr>\n",
              "        <tr>\n",
              "            <td>S?o Paulo</td>\n",
              "            <td>4.8</td>\n",
              "        </tr>\n",
              "        <tr>\n",
              "            <td>Athens</td>\n",
              "            <td>4.6</td>\n",
              "        </tr>\n",
              "        <tr>\n",
              "            <td>Augusta</td>\n",
              "            <td>4.9</td>\n",
              "        </tr>\n",
              "    </tbody>\n",
              "</table>\n",
              "<span style=\"font-style:italic;text-align:center;\">Truncated to <a href=\"https://jupysql.ploomber.io/en/latest/api/configuration.html#displaylimit\">displaylimit</a> of 10.</span>"
            ]
          },
          "metadata": {},
          "execution_count": 45
        }
      ]
    },
    {
      "cell_type": "markdown",
      "source": [
        "Classify restaurants into 'Budget-Friendly', 'Mid-Range', and 'Expensive' based on 'Average_Cost_for_two'. Count how many restaurants fall into each category. (You can define your own price tiers)."
      ],
      "metadata": {
        "id": "oE1gJeBjQFku"
      }
    },
    {
      "cell_type": "code",
      "source": [
        "%%sql\n",
        "SELECT\n",
        "    PriceCategory,\n",
        "    COUNT(*) AS NumberOfRestaurants\n",
        "FROM (\n",
        "    SELECT\n",
        "        RestaurantID,\n",
        "        CASE\n",
        "            WHEN Average_Cost_for_two < 500 THEN 'Budget-Friendly'\n",
        "            WHEN Average_Cost_for_two >= 500 AND Average_Cost_for_two <= 1500 THEN 'Mid-Range'\n",
        "            ELSE 'Expensive'\n",
        "        END AS PriceCategory\n",
        "    FROM\n",
        "        bank.zomato\n",
        ") AS Subquery\n",
        "GROUP BY\n",
        "    PriceCategory;"
      ],
      "metadata": {
        "colab": {
          "base_uri": "https://localhost:8080/",
          "height": 122
        },
        "id": "sk2s819XQJ--",
        "outputId": "03ca61ba-59de-4036-b94e-95384e814237"
      },
      "execution_count": 48,
      "outputs": [
        {
          "output_type": "display_data",
          "data": {
            "text/plain": [
              "Running query in 'duckdb:///bank.duck.db'"
            ],
            "text/html": [
              "<span style=\"None\">Running query in &#x27;duckdb:///bank.duck.db&#x27;</span>"
            ]
          },
          "metadata": {}
        },
        {
          "output_type": "execute_result",
          "data": {
            "text/plain": [
              "+-----------------+---------------------+\n",
              "|  PriceCategory  | NumberOfRestaurants |\n",
              "+-----------------+---------------------+\n",
              "|    Mid-Range    |         3793        |\n",
              "|    Expensive    |         584         |\n",
              "| Budget-Friendly |         5174        |\n",
              "+-----------------+---------------------+"
            ],
            "text/html": [
              "<table>\n",
              "    <thead>\n",
              "        <tr>\n",
              "            <th>PriceCategory</th>\n",
              "            <th>NumberOfRestaurants</th>\n",
              "        </tr>\n",
              "    </thead>\n",
              "    <tbody>\n",
              "        <tr>\n",
              "            <td>Mid-Range</td>\n",
              "            <td>3793</td>\n",
              "        </tr>\n",
              "        <tr>\n",
              "            <td>Expensive</td>\n",
              "            <td>584</td>\n",
              "        </tr>\n",
              "        <tr>\n",
              "            <td>Budget-Friendly</td>\n",
              "            <td>5174</td>\n",
              "        </tr>\n",
              "    </tbody>\n",
              "</table>"
            ]
          },
          "metadata": {},
          "execution_count": 48
        }
      ]
    },
    {
      "cell_type": "markdown",
      "source": [
        "Find the top 5 most common cuisines in the dataset."
      ],
      "metadata": {
        "id": "1gHzMm-lRBIf"
      }
    },
    {
      "cell_type": "code",
      "source": [
        "%%sql\n",
        "SELECT Cuisines, COUNT(*) AS CuisineCount, MAX(Rating) AS HighestRating\n",
        "FROM bank.zomato\n",
        "GROUP BY Cuisines\n",
        "ORDER BY CuisineCount DESC\n",
        "LIMIT 5;"
      ],
      "metadata": {
        "colab": {
          "base_uri": "https://localhost:8080/",
          "height": 164
        },
        "id": "MoPb558IRJJx",
        "outputId": "8ecea4b2-f130-46ff-99a5-d36e6d5407c8"
      },
      "execution_count": 54,
      "outputs": [
        {
          "output_type": "display_data",
          "data": {
            "text/plain": [
              "Running query in 'duckdb:///bank.duck.db'"
            ],
            "text/html": [
              "<span style=\"None\">Running query in &#x27;duckdb:///bank.duck.db&#x27;</span>"
            ]
          },
          "metadata": {}
        },
        {
          "output_type": "execute_result",
          "data": {
            "text/plain": [
              "+-----------------------+--------------+---------------+\n",
              "|        Cuisines       | CuisineCount | HighestRating |\n",
              "+-----------------------+--------------+---------------+\n",
              "|      North Indian     |     936      |      4.9      |\n",
              "| North Indian| Chinese |     511      |      4.9      |\n",
              "|       Fast Food       |     354      |      4.9      |\n",
              "|        Chinese        |     354      |      4.9      |\n",
              "| North Indian| Mughlai |     334      |      4.6      |\n",
              "+-----------------------+--------------+---------------+"
            ],
            "text/html": [
              "<table>\n",
              "    <thead>\n",
              "        <tr>\n",
              "            <th>Cuisines</th>\n",
              "            <th>CuisineCount</th>\n",
              "            <th>HighestRating</th>\n",
              "        </tr>\n",
              "    </thead>\n",
              "    <tbody>\n",
              "        <tr>\n",
              "            <td>North Indian</td>\n",
              "            <td>936</td>\n",
              "            <td>4.9</td>\n",
              "        </tr>\n",
              "        <tr>\n",
              "            <td>North Indian| Chinese</td>\n",
              "            <td>511</td>\n",
              "            <td>4.9</td>\n",
              "        </tr>\n",
              "        <tr>\n",
              "            <td>Fast Food</td>\n",
              "            <td>354</td>\n",
              "            <td>4.9</td>\n",
              "        </tr>\n",
              "        <tr>\n",
              "            <td>Chinese</td>\n",
              "            <td>354</td>\n",
              "            <td>4.9</td>\n",
              "        </tr>\n",
              "        <tr>\n",
              "            <td>North Indian| Mughlai</td>\n",
              "            <td>334</td>\n",
              "            <td>4.6</td>\n",
              "        </tr>\n",
              "    </tbody>\n",
              "</table>"
            ]
          },
          "metadata": {},
          "execution_count": 54
        }
      ]
    },
    {
      "cell_type": "markdown",
      "source": [
        "What is the average number of votes for restaurants in each rating category? (e.g., for ratings 1-1.9, 2-2.9, 3-3.9, 4-4.9, 5)"
      ],
      "metadata": {
        "id": "DJS0blBjSBqB"
      }
    },
    {
      "cell_type": "code",
      "source": [
        "%%sql\n",
        "SELECT\n",
        "    RatingCategory,\n",
        "    AVG(Votes) AS AverageVotes\n",
        "FROM (\n",
        "    SELECT\n",
        "        Votes,\n",
        "        CASE\n",
        "            WHEN Rating >= 1 AND Rating < 2 THEN '1.0 - 1.9'\n",
        "            WHEN Rating >= 2 AND Rating < 3 THEN '2.0 - 2.9'\n",
        "            WHEN Rating >= 3 AND Rating < 4 THEN '3.0 - 3.9'\n",
        "            WHEN Rating >= 4 AND Rating < 5 THEN '4.0 - 4.9'\n",
        "            WHEN Rating = 5 THEN '5.0'\n",
        "            ELSE '0.0 - 0.9 (Unrated)' -- Handles ratings of 0\n",
        "        END AS RatingCategory\n",
        "    FROM\n",
        "        bank.zomato\n",
        ") AS Subquery\n",
        "GROUP BY\n",
        "    RatingCategory\n",
        "ORDER BY\n",
        "    RatingCategory;"
      ],
      "metadata": {
        "colab": {
          "base_uri": "https://localhost:8080/",
          "height": 143
        },
        "id": "QnG90RqvRdnI",
        "outputId": "275ce3ed-777c-473a-ed51-9d368f464350"
      },
      "execution_count": 57,
      "outputs": [
        {
          "output_type": "display_data",
          "data": {
            "text/plain": [
              "Running query in 'duckdb:///bank.duck.db'"
            ],
            "text/html": [
              "<span style=\"None\">Running query in &#x27;duckdb:///bank.duck.db&#x27;</span>"
            ]
          },
          "metadata": {}
        },
        {
          "output_type": "execute_result",
          "data": {
            "text/plain": [
              "+----------------+--------------------+\n",
              "| RatingCategory |    AverageVotes    |\n",
              "+----------------+--------------------+\n",
              "|   1.0 - 1.9    | 1.1171548117154813 |\n",
              "|   2.0 - 2.9    |        45.6        |\n",
              "|   3.0 - 3.9    | 133.5677559912854  |\n",
              "|   4.0 - 4.9    | 592.7231884057971  |\n",
              "+----------------+--------------------+"
            ],
            "text/html": [
              "<table>\n",
              "    <thead>\n",
              "        <tr>\n",
              "            <th>RatingCategory</th>\n",
              "            <th>AverageVotes</th>\n",
              "        </tr>\n",
              "    </thead>\n",
              "    <tbody>\n",
              "        <tr>\n",
              "            <td>1.0 - 1.9</td>\n",
              "            <td>1.1171548117154813</td>\n",
              "        </tr>\n",
              "        <tr>\n",
              "            <td>2.0 - 2.9</td>\n",
              "            <td>45.6</td>\n",
              "        </tr>\n",
              "        <tr>\n",
              "            <td>3.0 - 3.9</td>\n",
              "            <td>133.5677559912854</td>\n",
              "        </tr>\n",
              "        <tr>\n",
              "            <td>4.0 - 4.9</td>\n",
              "            <td>592.7231884057971</td>\n",
              "        </tr>\n",
              "    </tbody>\n",
              "</table>"
            ]
          },
          "metadata": {},
          "execution_count": 57
        }
      ]
    }
  ]
}